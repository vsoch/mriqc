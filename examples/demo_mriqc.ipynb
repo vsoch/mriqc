{
 "cells": [
  {
   "cell_type": "code",
   "execution_count": 4,
   "metadata": {
    "collapsed": false
   },
   "outputs": [],
   "source": [
    "import gc\n",
    "import pylab as plt\n",
    "import nibabel as nb\n",
    "from matplotlib.backends.backend_pdf import PdfPages\n",
    "from mriqc.volumes import plot_mosaic, plot_distrbution_of_values\n",
    "from mriqc.motion import plot_frame_displacement"
   ]
  },
  {
   "cell_type": "code",
   "execution_count": 13,
   "metadata": {
    "collapsed": false
   },
   "outputs": [],
   "source": [
    "output_file = \"/tmp/report.pdf\"\n",
    "\n",
    "report = PdfPages(output_file)\n",
    "\n",
    "epi_nii = nb.load(\"/Users/filo/krzysztof.gorgolewski@gmail.com/projects/OpenfMRI/datasets/BIDS examples/ds007_partial/sub00001/functional/sub00001_task001_run001_bold.nii.gz\")\n",
    "mean_epi = epi_nii.get_data().mean(axis=3)\n",
    "\n",
    "fig = plot_mosaic(mean_epi, title=\"Mean EPI\", figsize=(8.3, 11.7))\n",
    "report.savefig(fig, dpi=300)\n",
    "fig.clf()\n",
    "\n",
    "epi_std = epi_nii.get_data().std(axis=3)\n",
    "epi_tsnr = mean_epi/epi_std\n",
    "fig = plot_mosaic(epi_tsnr, title=\"tSNR\", figsize=(8.3, 11.7))\n",
    "report.savefig(fig, dpi=300)\n",
    "fig.clf()\n",
    "\n",
    "report.close()\n",
    "gc.collect()\n",
    "plt.close()"
   ]
  },
  {
   "cell_type": "code",
   "execution_count": 10,
   "metadata": {
    "collapsed": false
   },
   "outputs": [
    {
     "data": {
      "text/plain": [
       "(64, 64, 33, 182)"
      ]
     },
     "execution_count": 10,
     "metadata": {},
     "output_type": "execute_result"
    }
   ],
   "source": [
    "epi_nii.shape"
   ]
  },
  {
   "cell_type": "code",
   "execution_count": 11,
   "metadata": {
    "collapsed": false
   },
   "outputs": [
    {
     "data": {
      "text/plain": [
       "(64, 64, 33)"
      ]
     },
     "execution_count": 11,
     "metadata": {},
     "output_type": "execute_result"
    }
   ],
   "source": [
    "mean_epi.shape"
   ]
  },
  {
   "cell_type": "code",
   "execution_count": null,
   "metadata": {
    "collapsed": true
   },
   "outputs": [],
   "source": []
  }
 ],
 "metadata": {
  "kernelspec": {
   "display_name": "Python 2",
   "language": "python",
   "name": "python2"
  },
  "language_info": {
   "codemirror_mode": {
    "name": "ipython",
    "version": 2
   },
   "file_extension": ".py",
   "mimetype": "text/x-python",
   "name": "python",
   "nbconvert_exporter": "python",
   "pygments_lexer": "ipython2",
   "version": "2.7.10"
  }
 },
 "nbformat": 4,
 "nbformat_minor": 0
}
